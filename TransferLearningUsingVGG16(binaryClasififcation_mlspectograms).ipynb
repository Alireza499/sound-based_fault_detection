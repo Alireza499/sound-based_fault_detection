{
 "cells": [
  {
   "cell_type": "markdown",
   "id": "56eea6cf",
   "metadata": {},
   "source": [
    "## import python-library"
   ]
  },
  {
   "cell_type": "code",
   "execution_count": 2,
   "id": "fa4448bf",
   "metadata": {},
   "outputs": [],
   "source": [
    "import pandas as pd\n",
    "import numpy as np\n",
    "import os\n",
    "import random\n",
    "import tensorflow as tf\n",
    "import cv2\n",
    "import glob\n",
    "from tensorflow import keras\n",
    "from keras.layers.core import Dense \n",
    "from tensorflow.keras.layers import Input\n",
    "from tensorflow.keras import layers, Input\n",
    "from tensorflow.keras.models import Sequential, Model\n",
    "from  matplotlib import pyplot as plt\n",
    "import matplotlib.image as mpimg\n",
    "%matplotlib inline"
   ]
  },
  {
   "cell_type": "markdown",
   "id": "8707fe57",
   "metadata": {},
   "source": [
    "gc(garbage collector) managing memory  "
   ]
  },
  {
   "cell_type": "code",
   "execution_count": 3,
   "id": "febecc45",
   "metadata": {},
   "outputs": [],
   "source": [
    "import gc \n",
    "gc.enable()"
   ]
  },
  {
   "cell_type": "code",
   "execution_count": 4,
   "id": "d154175f",
   "metadata": {},
   "outputs": [],
   "source": [
    "random.seed(30)   # used for random choice from dataset"
   ]
  },
  {
   "cell_type": "code",
   "execution_count": 3,
   "id": "e2d4ee4c",
   "metadata": {},
   "outputs": [
    {
     "name": "stdout",
     "output_type": "stream",
     "text": [
      "H:\\project_jamalian\\image\\model\n"
     ]
    }
   ],
   "source": [
    "root_dir = os.getcwd()  #corrent directory\n",
    "print(root_dir)"
   ]
  },
  {
   "cell_type": "markdown",
   "id": "71054966",
   "metadata": {},
   "source": [
    "## Loading images and labels\n",
    "#### first collecting paths to all the normal and abnormal mlspectograms"
   ]
  },
  {
   "cell_type": "code",
   "execution_count": 5,
   "id": "2496c57e",
   "metadata": {},
   "outputs": [],
   "source": [
    "normal_files_path = []  \n",
    "for filename in glob.glob(f'{root_dir}/**/normals/*.png', recursive=True): # all normals path\n",
    "    normal_files_path.append(filename)\n",
    "    \n",
    "abnormal_files_path = []\n",
    "for filename in glob.glob(f'{root_dir}/**/abnormals/*.png', recursive=True): # all abnormals path\n",
    "    abnormal_files_path.append(filename)"
   ]
  },
  {
   "cell_type": "code",
   "execution_count": 6,
   "id": "c7cc08f4",
   "metadata": {},
   "outputs": [
    {
     "name": "stdout",
     "output_type": "stream",
     "text": [
      "count of all normals: 44157\n",
      "count of all abnormals: 8848\n"
     ]
    }
   ],
   "source": [
    "print(f'count of all normals: {len(normal_files_path)}' )\n",
    "print(f'count of all abnormals: {len(abnormal_files_path)}' )"
   ]
  },
  {
   "cell_type": "markdown",
   "id": "63e6b1db",
   "metadata": {},
   "source": [
    "#### As it is shown below with an example, we can access machine type and ab and fileName thorough names of folders that spectograms are saved in. this will be used in saving detail of each spectogram."
   ]
  },
  {
   "cell_type": "code",
   "execution_count": 7,
   "id": "5b373cbc",
   "metadata": {},
   "outputs": [
    {
     "name": "stdout",
     "output_type": "stream",
     "text": [
      "fan\n",
      "-6db\n",
      "0.png\n"
     ]
    }
   ],
   "source": [
    "machine_type =   os.path.split(os.path.split(os.path.split(os.path.split(normal_files_path[0])[0])[0])[0])[1]\n",
    "db           =   os.path.split(os.path.split(os.path.split(normal_files_path[0])[0])[0])[1]\n",
    "fileName     =   os.path.split(normal_files_path[0])[1]\n",
    "\n",
    "print(machine_type)\n",
    "print(db)\n",
    "print(fileName)"
   ]
  },
  {
   "cell_type": "markdown",
   "id": "22d80c48",
   "metadata": {},
   "source": [
    "### selecting subset of dataset:\n",
    "\n",
    "number of spectograms in base dataset:\n",
    "\n",
    "    normals  : 44157\n",
    "    \n",
    "    abnormals: 8848\n",
    "        \n",
    "But due to shortage of hardware, \n",
    "\n",
    "    normals  : 8000\n",
    "    \n",
    "    abnormals: 1000\n",
    "\n",
    "will be select randomly. "
   ]
  },
  {
   "cell_type": "code",
   "execution_count": 8,
   "id": "fcf6bbe0",
   "metadata": {},
   "outputs": [],
   "source": [
    "resize_scale = 50     # down scaling images (in percent)\n",
    "\n",
    "numberOfabnormalsInDataset = 1000  \n",
    "numberOfnormalsInDataset = 8000"
   ]
  },
  {
   "cell_type": "markdown",
   "id": "d7572a7f",
   "metadata": {},
   "source": [
    "### creating X and y:\n",
    "Reading images -->  Save as numpy in X -->  Save Respective y -->  Save Respective detail ( machine_type & db & fileName )"
   ]
  },
  {
   "cell_type": "code",
   "execution_count": 9,
   "id": "d539b3ff",
   "metadata": {},
   "outputs": [],
   "source": [
    "y = [] # TARGET, actual value (abnormal = 1 , normal = 0)\n",
    "X = [] # FEATURES, spectograms (input images)\n",
    "\n",
    "detail = [] #machine_type & db & fileName"
   ]
  },
  {
   "cell_type": "code",
   "execution_count": 10,
   "id": "ffb5bbb6",
   "metadata": {},
   "outputs": [],
   "source": [
    "#normals:\n",
    "normals_spectrograms=[]\n",
    "for image_path in random.choices(normal_files_path, k=numberOfnormalsInDataset): #select randomly from paths.\n",
    "    try:\n",
    "        machine_type = os.path.split(os.path.split(os.path.split(os.path.split(image_path)[0])[0])[0])[1]\n",
    "        db = os.path.split(os.path.split(os.path.split(image_path)[0])[0])[1]\n",
    "        file_name = os.path.split(image_path)[1]   \n",
    "\n",
    "\n",
    "        image= cv2.imread( image_path, cv2.COLOR_BGR2RGB)\n",
    "\n",
    "        width = int(image.shape[1] * resize_scale / 100)\n",
    "        height = int(image.shape[0] * resize_scale / 100)\n",
    "        dim = (width, height)\n",
    "        image = cv2.resize(image, dim, interpolation = cv2.INTER_AREA)  #down sizing images (memory)\n",
    "\n",
    "\n",
    "        image= np.array(image)\n",
    "        image = image.astype('float32')\n",
    "        image /= 255                          # normalaizing the data  (divide by maximum)\n",
    "        X.append(image)                       # adding the image to features\n",
    "        normals_spectrograms.append(image)\n",
    "        tmp = [machine_type, db, file_name]\n",
    "        detail.append(tmp)                   # saving detail\n",
    "        y.append(0) #normal                  # save Target\n",
    "    except:\n",
    "        print(image_path) #in case of occuring a error in reading file\n"
   ]
  },
  {
   "cell_type": "code",
   "execution_count": 11,
   "id": "047fa385",
   "metadata": {},
   "outputs": [],
   "source": [
    "#abnormals:\n",
    "abnormals_spectrograms=[]\n",
    "for image_path in random.choices(abnormal_files_path, k=numberOfabnormalsInDataset): #select randomly from paths.\n",
    "    try:\n",
    "        machine_type = os.path.split(os.path.split(os.path.split(os.path.split(image_path)[0])[0])[0])[1]\n",
    "        db = os.path.split(os.path.split(os.path.split(image_path)[0])[0])[1]\n",
    "        file_name = os.path.split(image_path)[1]   \n",
    "\n",
    "\n",
    "        image= cv2.imread( image_path, cv2.COLOR_BGR2RGB)\n",
    "\n",
    "        width = int(image.shape[1] * resize_scale / 100)\n",
    "        height = int(image.shape[0] * resize_scale / 100)\n",
    "        dim = (width, height)\n",
    "        image = cv2.resize(image, dim, interpolation = cv2.INTER_AREA) #down sizing images (memory)\n",
    "\n",
    "\n",
    "        image= np.array(image)\n",
    "        image = image.astype('float32')\n",
    "        image /= 255                                        # normalaizing the data  (divide by maximum)\n",
    "        X.append(image)                                     # adding the image to features\n",
    "        abnormals_spectrograms.append(image)\n",
    "        tmp = [machine_type, db, file_name]\n",
    "        detail.append(tmp)                                  # saving detail\n",
    "        y.append(1) #abnormal                               # save Target\n",
    "    except:\n",
    "        print(image_path)    #in case of occuring a error in reading file\n"
   ]
  },
  {
   "cell_type": "markdown",
   "id": "138db6e2",
   "metadata": {},
   "source": [
    "### Test:"
   ]
  },
  {
   "cell_type": "code",
   "execution_count": 12,
   "id": "e4cad72d",
   "metadata": {},
   "outputs": [
    {
     "name": "stdout",
     "output_type": "stream",
     "text": [
      "[[[1. 1. 1.]\n",
      "  [1. 1. 1.]\n",
      "  [1. 1. 1.]\n",
      "  ...\n",
      "  [1. 1. 1.]\n",
      "  [1. 1. 1.]\n",
      "  [1. 1. 1.]]\n",
      "\n",
      " [[1. 1. 1.]\n",
      "  [1. 1. 1.]\n",
      "  [1. 1. 1.]\n",
      "  ...\n",
      "  [1. 1. 1.]\n",
      "  [1. 1. 1.]\n",
      "  [1. 1. 1.]]\n",
      "\n",
      " [[1. 1. 1.]\n",
      "  [1. 1. 1.]\n",
      "  [1. 1. 1.]\n",
      "  ...\n",
      "  [1. 1. 1.]\n",
      "  [1. 1. 1.]\n",
      "  [1. 1. 1.]]\n",
      "\n",
      " ...\n",
      "\n",
      " [[1. 1. 1.]\n",
      "  [1. 1. 1.]\n",
      "  [1. 1. 1.]\n",
      "  ...\n",
      "  [1. 1. 1.]\n",
      "  [1. 1. 1.]\n",
      "  [1. 1. 1.]]\n",
      "\n",
      " [[1. 1. 1.]\n",
      "  [1. 1. 1.]\n",
      "  [1. 1. 1.]\n",
      "  ...\n",
      "  [1. 1. 1.]\n",
      "  [1. 1. 1.]\n",
      "  [1. 1. 1.]]\n",
      "\n",
      " [[1. 1. 1.]\n",
      "  [1. 1. 1.]\n",
      "  [1. 1. 1.]\n",
      "  ...\n",
      "  [1. 1. 1.]\n",
      "  [1. 1. 1.]\n",
      "  [1. 1. 1.]]]\n",
      "======================================================================\n",
      "0\n",
      "======================================================================\n",
      "['fan', '6db', '3888.png']\n"
     ]
    }
   ],
   "source": [
    "print(X[5])\n",
    "print(\"======================================================================\")\n",
    "print(y[5])\n",
    "print(\"======================================================================\")\n",
    "print(detail[5])"
   ]
  },
  {
   "cell_type": "markdown",
   "id": "926605d2",
   "metadata": {},
   "source": [
    "### saving numpys to save time in future attempts"
   ]
  },
  {
   "cell_type": "code",
   "execution_count": 13,
   "id": "2a662822",
   "metadata": {},
   "outputs": [],
   "source": [
    "np.save(\"normals_spectrograms.npy\", normals_spectrograms)\n",
    "#normals_spectrograms = np.load(\"normals_spectrograms.npy\")"
   ]
  },
  {
   "cell_type": "code",
   "execution_count": 6,
   "id": "6016072a",
   "metadata": {},
   "outputs": [],
   "source": [
    "normals_spectrograms = np.load(\"normals_spectrograms.npy\")"
   ]
  },
  {
   "cell_type": "code",
   "execution_count": 14,
   "id": "4e95eb5f",
   "metadata": {},
   "outputs": [],
   "source": [
    "np.save(\"abnormals_spectrograms.npy\", abnormals_spectrograms)\n",
    "#abnormals_spectrograms = np.load(\"abnormals_spectrograms.npy\")"
   ]
  },
  {
   "cell_type": "code",
   "execution_count": 7,
   "id": "04ac68bc",
   "metadata": {},
   "outputs": [],
   "source": [
    "abnormals_spectrograms = np.load(\"abnormals_spectrograms.npy\")"
   ]
  },
  {
   "cell_type": "code",
   "execution_count": 15,
   "id": "dee11df2",
   "metadata": {},
   "outputs": [],
   "source": [
    "np.save(\"features.npy\", X)\n",
    "#X = np.load(\"features.npy\")"
   ]
  },
  {
   "cell_type": "code",
   "execution_count": 6,
   "id": "83a959b9",
   "metadata": {},
   "outputs": [],
   "source": [
    "X = np.load(\"features.npy\")"
   ]
  },
  {
   "cell_type": "code",
   "execution_count": 16,
   "id": "a698545c",
   "metadata": {},
   "outputs": [],
   "source": [
    "np.save(\"target.npy\", y)\n",
    "#y = np.load(\"target.npy\")"
   ]
  },
  {
   "cell_type": "code",
   "execution_count": 7,
   "id": "3673ed56",
   "metadata": {},
   "outputs": [],
   "source": [
    "y = np.load(\"target.npy\")"
   ]
  },
  {
   "cell_type": "code",
   "execution_count": 17,
   "id": "0ba2dad6",
   "metadata": {},
   "outputs": [],
   "source": [
    "np.save(\"detail.npy\", detail)\n",
    "#detail = np.load(\"detail.npy\")"
   ]
  },
  {
   "cell_type": "code",
   "execution_count": 8,
   "id": "558ed5ae",
   "metadata": {},
   "outputs": [],
   "source": [
    "detail = np.load(\"detail.npy\")"
   ]
  },
  {
   "cell_type": "code",
   "execution_count": 18,
   "id": "38f811cc",
   "metadata": {},
   "outputs": [
    {
     "data": {
      "text/plain": [
       "144"
      ]
     },
     "execution_count": 18,
     "metadata": {},
     "output_type": "execute_result"
    }
   ],
   "source": [
    "del normal_files_path           #free up memory\n",
    "del abnormal_files_path\n",
    "gc.collect()        "
   ]
  },
  {
   "cell_type": "code",
   "execution_count": 19,
   "id": "432e1f61",
   "metadata": {},
   "outputs": [
    {
     "name": "stdout",
     "output_type": "stream",
     "text": [
      "(9000,)\n",
      "(9000, 144, 216, 3)\n"
     ]
    }
   ],
   "source": [
    "X =np.array(X)\n",
    "y =np.array(y)\n",
    "print(y.shape)\n",
    "print(X.shape)"
   ]
  },
  {
   "cell_type": "markdown",
   "id": "6ec15920",
   "metadata": {},
   "source": [
    "# split Dataset:\n",
    "\n",
    "20% Test data\n",
    "\n",
    "80% train data\n",
    "\n"
   ]
  },
  {
   "cell_type": "code",
   "execution_count": 12,
   "id": "2cba7919",
   "metadata": {},
   "outputs": [],
   "source": [
    "percentForTest = 20\n",
    "# train_X      = X[:len(X)*(100-percentForTest)]\n",
    "# train_y      = y[:len(X)*(100-percentForTest)]\n",
    "# train_detail = detail[:len(X)*(100-percentForTest)]\n",
    "\n",
    "# test_X       = X[len(X)*(100-percentForTest):]\n",
    "# test_y       = y[len(X)*(100-percentForTest):]\n",
    "# test_detail  = detail[len(X)*(100-percentForTest):]\n"
   ]
  },
  {
   "cell_type": "code",
   "execution_count": 9,
   "id": "5eb44815",
   "metadata": {},
   "outputs": [],
   "source": [
    "from sklearn.model_selection import train_test_split\n",
    "X_train, X_test, y_train, y_test = train_test_split(X, y, test_size=0.20, random_state=4)\n",
    "_, _, detail_train, detail_test = train_test_split(X, detail, test_size=0.20, random_state=4)"
   ]
  },
  {
   "cell_type": "code",
   "execution_count": 14,
   "id": "85c32573",
   "metadata": {},
   "outputs": [
    {
     "name": "stdout",
     "output_type": "stream",
     "text": [
      "(7200, 144, 216, 3)\n",
      "(1800, 144, 216, 3)\n"
     ]
    }
   ],
   "source": [
    "print(X_train.shape)\n",
    "print(X_test.shape)\n"
   ]
  },
  {
   "cell_type": "markdown",
   "id": "53c3aaf3",
   "metadata": {},
   "source": [
    "# Transfer learning with vgg16"
   ]
  },
  {
   "cell_type": "markdown",
   "id": "65e7efc4",
   "metadata": {},
   "source": [
    "https://towardsdatascience.com/transfer-learning-with-vgg16-and-keras-50ea161580b4"
   ]
  },
  {
   "cell_type": "code",
   "execution_count": 15,
   "id": "e8a1d519",
   "metadata": {},
   "outputs": [],
   "source": [
    "from tensorflow.keras.applications.vgg16 import VGG16 \n",
    "from tensorflow.keras.applications.vgg16 import preprocess_input\n",
    "\n",
    "## Loading VGG16 model\n",
    "base_model = VGG16(weights=\"imagenet\", include_top=False, input_shape=X_train[0].shape)  # customizing input \n",
    "base_model.trainable = False ## Not trainable weights\n",
    "\n",
    "## Preprocessing input\n",
    "X_train = preprocess_input(X_train) \n",
    "y_train = preprocess_input(y_train)"
   ]
  },
  {
   "cell_type": "code",
   "execution_count": 16,
   "id": "4fe1160c",
   "metadata": {},
   "outputs": [
    {
     "name": "stdout",
     "output_type": "stream",
     "text": [
      "Model: \"vgg16\"\n",
      "_________________________________________________________________\n",
      " Layer (type)                Output Shape              Param #   \n",
      "=================================================================\n",
      " input_1 (InputLayer)        [(None, 144, 216, 3)]     0         \n",
      "                                                                 \n",
      " block1_conv1 (Conv2D)       (None, 144, 216, 64)      1792      \n",
      "                                                                 \n",
      " block1_conv2 (Conv2D)       (None, 144, 216, 64)      36928     \n",
      "                                                                 \n",
      " block1_pool (MaxPooling2D)  (None, 72, 108, 64)       0         \n",
      "                                                                 \n",
      " block2_conv1 (Conv2D)       (None, 72, 108, 128)      73856     \n",
      "                                                                 \n",
      " block2_conv2 (Conv2D)       (None, 72, 108, 128)      147584    \n",
      "                                                                 \n",
      " block2_pool (MaxPooling2D)  (None, 36, 54, 128)       0         \n",
      "                                                                 \n",
      " block3_conv1 (Conv2D)       (None, 36, 54, 256)       295168    \n",
      "                                                                 \n",
      " block3_conv2 (Conv2D)       (None, 36, 54, 256)       590080    \n",
      "                                                                 \n",
      " block3_conv3 (Conv2D)       (None, 36, 54, 256)       590080    \n",
      "                                                                 \n",
      " block3_pool (MaxPooling2D)  (None, 18, 27, 256)       0         \n",
      "                                                                 \n",
      " block4_conv1 (Conv2D)       (None, 18, 27, 512)       1180160   \n",
      "                                                                 \n",
      " block4_conv2 (Conv2D)       (None, 18, 27, 512)       2359808   \n",
      "                                                                 \n",
      " block4_conv3 (Conv2D)       (None, 18, 27, 512)       2359808   \n",
      "                                                                 \n",
      " block4_pool (MaxPooling2D)  (None, 9, 13, 512)        0         \n",
      "                                                                 \n",
      " block5_conv1 (Conv2D)       (None, 9, 13, 512)        2359808   \n",
      "                                                                 \n",
      " block5_conv2 (Conv2D)       (None, 9, 13, 512)        2359808   \n",
      "                                                                 \n",
      " block5_conv3 (Conv2D)       (None, 9, 13, 512)        2359808   \n",
      "                                                                 \n",
      " block5_pool (MaxPooling2D)  (None, 4, 6, 512)         0         \n",
      "                                                                 \n",
      "=================================================================\n",
      "Total params: 14,714,688\n",
      "Trainable params: 0\n",
      "Non-trainable params: 14,714,688\n",
      "_________________________________________________________________\n"
     ]
    }
   ],
   "source": [
    "base_model.summary()"
   ]
  },
  {
   "cell_type": "markdown",
   "id": "b9485061",
   "metadata": {},
   "source": [
    "### Addtinal layers to base model(VGG16) used for classification."
   ]
  },
  {
   "cell_type": "code",
   "execution_count": 17,
   "id": "c8f3db58",
   "metadata": {},
   "outputs": [],
   "source": [
    "from tensorflow.keras import layers, models\n",
    "\n",
    "flatten_layer = layers.Flatten()                             # transform to n * 1\n",
    "dense_layer_1 = layers.Dense(50, activation='relu')\n",
    "dense_layer_2 = layers.Dense(20, activation='relu')\n",
    "prediction_layer = layers.Dense(1, activation='sigmoid')     # it is a binary clasification hence sigmoid and not softmax\n",
    "\n",
    "\n",
    "model = models.Sequential([\n",
    "    base_model,\n",
    "    flatten_layer,\n",
    "    dense_layer_1,\n",
    "    dense_layer_2,\n",
    "    prediction_layer\n",
    "])"
   ]
  },
  {
   "cell_type": "code",
   "execution_count": 18,
   "id": "74a2047a",
   "metadata": {},
   "outputs": [],
   "source": [
    "# train_y = np.asarray(y).astype('int').reshape((-1,1))\n",
    "# test_y = np.asarray(y).astype('int').reshape((-1,1))"
   ]
  },
  {
   "cell_type": "markdown",
   "id": "a89436ad",
   "metadata": {},
   "source": [
    "<a href=\"https://en.wikipedia.org/wiki/Early_stopping\"> EarlyStopping </a>   is a form of regularization used to avoid   overfitting"
   ]
  },
  {
   "cell_type": "code",
   "execution_count": 19,
   "id": "c569ce0e",
   "metadata": {},
   "outputs": [
    {
     "name": "stdout",
     "output_type": "stream",
     "text": [
      "Epoch 1/50\n",
      "180/180 [==============================] - 569s 3s/step - loss: 0.2667 - accuracy: 0.8863 - val_loss: 0.3715 - val_accuracy: 0.8778\n",
      "Epoch 2/50\n",
      "180/180 [==============================] - 590s 3s/step - loss: 0.2846 - accuracy: 0.8898 - val_loss: 0.3715 - val_accuracy: 0.8778\n",
      "Epoch 3/50\n",
      "180/180 [==============================] - 623s 3s/step - loss: 0.2782 - accuracy: 0.8898 - val_loss: 0.3802 - val_accuracy: 0.8778\n",
      "Epoch 4/50\n",
      "180/180 [==============================] - 620s 3s/step - loss: 0.2343 - accuracy: 0.8898 - val_loss: 0.6776 - val_accuracy: 0.8778\n",
      "Epoch 5/50\n",
      "180/180 [==============================] - 624s 3s/step - loss: 0.2731 - accuracy: 0.8898 - val_loss: 0.6333 - val_accuracy: 0.8778\n",
      "Epoch 6/50\n",
      "180/180 [==============================] - 622s 3s/step - loss: 0.2789 - accuracy: 0.8898 - val_loss: 0.3715 - val_accuracy: 0.8778\n"
     ]
    }
   ],
   "source": [
    "from tensorflow.keras.callbacks import EarlyStopping\n",
    "\n",
    "model.compile(\n",
    "    optimizer='adam',\n",
    "    loss='binary_crossentropy',\n",
    "    metrics=['accuracy'],\n",
    ")\n",
    "\n",
    "\n",
    "es = EarlyStopping(monitor='val_accuracy', mode='max', patience=5,  restore_best_weights=True)\n",
    "\n",
    "r =model.fit(X_train, y_train, epochs=50, validation_split=0.2, batch_size=32, callbacks=[es]) \n",
    "# 20% of train data will be used for validation\n",
    "# if val_accuracy start to drop in epochs, training will be ended. (EarlyStopping)"
   ]
  },
  {
   "cell_type": "markdown",
   "id": "65d81124",
   "metadata": {},
   "source": [
    "### saving the model:"
   ]
  },
  {
   "cell_type": "code",
   "execution_count": 20,
   "id": "11d7d0fe",
   "metadata": {},
   "outputs": [
    {
     "name": "stderr",
     "output_type": "stream",
     "text": [
      "WARNING:absl:Found untraced functions such as _jit_compiled_convolution_op, _jit_compiled_convolution_op, _jit_compiled_convolution_op, _jit_compiled_convolution_op, _jit_compiled_convolution_op while saving (showing 5 of 13). These functions will not be directly callable after loading.\n"
     ]
    },
    {
     "name": "stdout",
     "output_type": "stream",
     "text": [
      "INFO:tensorflow:Assets written to: H:\\project_jamalian\\image\\model/my_model/assets\n"
     ]
    },
    {
     "name": "stderr",
     "output_type": "stream",
     "text": [
      "INFO:tensorflow:Assets written to: H:\\project_jamalian\\image\\model/my_model/assets\n"
     ]
    }
   ],
   "source": [
    "\n",
    "model.save(f'{root_dir}/my_model/')\n",
    "# model = load_model(f'{root_dir}/my_model/')"
   ]
  },
  {
   "cell_type": "markdown",
   "id": "7d3ac5d7",
   "metadata": {},
   "source": [
    "### loading the model:"
   ]
  },
  {
   "cell_type": "code",
   "execution_count": 4,
   "id": "4ef5f796",
   "metadata": {},
   "outputs": [],
   "source": [
    "from keras.models import load_model\n",
    "model = load_model(f'{root_dir}/my_model/')"
   ]
  },
  {
   "cell_type": "markdown",
   "id": "0432b62d",
   "metadata": {},
   "source": [
    "## evaluation:"
   ]
  },
  {
   "cell_type": "code",
   "execution_count": 10,
   "id": "d0b81bb7",
   "metadata": {},
   "outputs": [
    {
     "name": "stdout",
     "output_type": "stream",
     "text": [
      "Evaluate on test data\n",
      "29/29 [==============================] - 151s 5s/step - loss: 0.5319 - accuracy: 0.8939\n",
      "test loss, test acc: [0.5318537950515747, 0.8938888907432556]\n"
     ]
    }
   ],
   "source": [
    "print(\"Evaluate on test data\")\n",
    "results = model.evaluate(X_test, y_test, batch_size=64)\n",
    "print(\"test loss, test acc:\", results)"
   ]
  },
  {
   "cell_type": "code",
   "execution_count": 31,
   "id": "64193487",
   "metadata": {},
   "outputs": [
    {
     "data": {
      "image/png": "[encoded data removed]",
      "text/plain": [
       "<Figure size 432x288 with 1 Axes>"
      ]
     },
     "metadata": {
      "needs_background": "light"
     },
     "output_type": "display_data"
    },
    {
     "data": {
      "image/png": "[encoded data removed]",
      "text/plain": [
       "<Figure size 432x288 with 1 Axes>"
      ]
     },
     "metadata": {
      "needs_background": "light"
     },
     "output_type": "display_data"
    }
   ],
   "source": [
    "#loss\n",
    "plt.plot(r.history['loss'], label='train loss')\n",
    "plt.plot(r.history['val_loss'], label='val loss')\n",
    "plt.legend()\n",
    "plt.show()\n",
    "# accuracies\n",
    "plt.plot(r.history['accuracy'], label='train acc')\n",
    "plt.plot(r.history['val_accuracy'], label='val acc')\n",
    "plt.legend()\n",
    "plt.show()"
   ]
  }
 ],
 "metadata": {
  "kernelspec": {
   "display_name": "Python 3 (ipykernel)",
   "language": "python",
   "name": "python3"
  },
  "language_info": {
   "codemirror_mode": {
    "name": "ipython",
    "version": 3
   },
   "file_extension": ".py",
   "mimetype": "text/x-python",
   "name": "python",
   "nbconvert_exporter": "python",
   "pygments_lexer": "ipython3",
   "version": "3.10.9"
  }
 },
 "nbformat": 4,
 "nbformat_minor": 5
}
